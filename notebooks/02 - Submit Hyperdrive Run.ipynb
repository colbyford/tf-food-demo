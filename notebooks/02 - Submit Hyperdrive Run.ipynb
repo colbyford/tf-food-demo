{
 "cells": [
  {
   "cell_type": "code",
   "execution_count": 1,
   "metadata": {},
   "outputs": [],
   "source": [
    "from azureml.core import Workspace, Experiment\n",
    "from azureml.train.dnn import TensorFlow\n",
    "from azureml.widgets import RunDetails"
   ]
  },
  {
   "cell_type": "code",
   "execution_count": 2,
   "metadata": {},
   "outputs": [],
   "source": [
    "from azureml.train.hyperdrive import RandomParameterSampling, BanditPolicy, HyperDriveConfig, PrimaryMetricGoal\n",
    "from azureml.train.hyperdrive import choice, loguniform"
   ]
  },
  {
   "cell_type": "code",
   "execution_count": 3,
   "metadata": {},
   "outputs": [],
   "source": [
    "ws = Workspace.from_config()\n",
    "\n",
    "gpu_cluster = ws.compute_targets['gpu-cluster']\n",
    "food_data = ws.datastores['food_images']"
   ]
  },
  {
   "cell_type": "code",
   "execution_count": 12,
   "metadata": {},
   "outputs": [
    {
     "name": "stderr",
     "output_type": "stream",
     "text": [
      "WARNING - framework_version is not specified, defaulting to version 1.13.\n"
     ]
    }
   ],
   "source": [
    "script_arguments = {\n",
    "    \"--data-dir\": food_data.as_mount(),\n",
    "    \"--epochs\": 50\n",
    "}\n",
    "\n",
    "tf_config = TensorFlow(source_directory=\"..\",\n",
    "                       entry_script='code/train/train.py',\n",
    "                       script_params=script_arguments,\n",
    "                       compute_target=gpu_cluster,\n",
    "                       conda_packages=['pillow', 'pandas'],\n",
    "                       pip_packages=['click', 'seaborn'],\n",
    "                       use_docker=True,\n",
    "                       use_gpu=True\n",
    "                      )\n",
    "\n",
    "# Run on subset of food categories\n",
    "tf_config.run_config.arguments.extend(['apple_pie', \n",
    "                                       'baby_back_ribs', \n",
    "                                       'baklava', \n",
    "                                       'beef_carpaccio'])"
   ]
  },
  {
   "cell_type": "code",
   "execution_count": 13,
   "metadata": {},
   "outputs": [],
   "source": [
    "param_sampler = RandomParameterSampling(\n",
    "    {\n",
    "        '--minibatch-size': choice(16, 32, 64, 128),\n",
    "        '--learning-rate': loguniform(-6, -1),\n",
    "        '--optimizer': choice('adadelta', 'rmsprop', 'adagrad', 'adam')\n",
    "    }\n",
    ")\n",
    "\n",
    "etpolicy = BanditPolicy(evaluation_interval=2, slack_factor=0.2)"
   ]
  },
  {
   "cell_type": "code",
   "execution_count": 22,
   "metadata": {},
   "outputs": [],
   "source": [
    "hdc = HyperDriveConfig(estimator=tf_config, \n",
    "                       hyperparameter_sampling=param_sampler, \n",
    "                       policy=etpolicy, \n",
    "                       primary_metric_name='acc', \n",
    "                       primary_metric_goal=PrimaryMetricGoal.MAXIMIZE, \n",
    "                       max_total_runs=50,\n",
    "                       max_concurrent_runs=5)"
   ]
  },
  {
   "cell_type": "code",
   "execution_count": 15,
   "metadata": {},
   "outputs": [],
   "source": [
    "hd_experiment = Experiment(ws, 'hyperparameter_search')"
   ]
  },
  {
   "cell_type": "code",
   "execution_count": 23,
   "metadata": {},
   "outputs": [],
   "source": [
    "hd_run = hd_experiment.submit(hdc)"
   ]
  },
  {
   "cell_type": "code",
   "execution_count": 24,
   "metadata": {},
   "outputs": [
    {
     "data": {
      "application/vnd.jupyter.widget-view+json": {
       "model_id": "6751ef5a248a45bda31c423737c723fa",
       "version_major": 2,
       "version_minor": 0
      },
      "text/plain": [
       "A Jupyter Widget"
      ]
     },
     "metadata": {},
     "output_type": "display_data"
    }
   ],
   "source": [
    "RunDetails(hd_run).show()"
   ]
  },
  {
   "cell_type": "code",
   "execution_count": null,
   "metadata": {},
   "outputs": [],
   "source": []
  }
 ],
 "metadata": {
  "kernelspec": {
   "display_name": "Python 3.6 - AzureML",
   "language": "python",
   "name": "python3-azureml"
  },
  "language_info": {
   "codemirror_mode": {
    "name": "ipython",
    "version": 3
   },
   "file_extension": ".py",
   "mimetype": "text/x-python",
   "name": "python",
   "nbconvert_exporter": "python",
   "pygments_lexer": "ipython3",
   "version": "3.6.2"
  }
 },
 "nbformat": 4,
 "nbformat_minor": 2
}
