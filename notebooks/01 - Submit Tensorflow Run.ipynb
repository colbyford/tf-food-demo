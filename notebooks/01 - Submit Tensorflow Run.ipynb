{
 "cells": [
  {
   "cell_type": "markdown",
   "metadata": {},
   "source": [
    "# Submit a single training run to AML Compute"
   ]
  },
  {
   "cell_type": "code",
   "execution_count": 16,
   "metadata": {},
   "outputs": [],
   "source": [
    "from azureml.core import Workspace, Experiment\n",
    "from azureml.train.dnn import TensorFlow\n",
    "from azureml.widgets import RunDetails"
   ]
  },
  {
   "cell_type": "markdown",
   "metadata": {},
   "source": [
    "### Initialize Azure Machine Learning Workspace"
   ]
  },
  {
   "cell_type": "code",
   "execution_count": 8,
   "metadata": {},
   "outputs": [],
   "source": [
    "ws = Workspace.from_config()\n",
    "\n",
    "gpu_cluster = ws.compute_targets['gpu-cluster']\n",
    "food_data = ws.datastores['food_images']"
   ]
  },
  {
   "cell_type": "code",
   "execution_count": 84,
   "metadata": {},
   "outputs": [
    {
     "name": "stderr",
     "output_type": "stream",
     "text": [
      "WARNING - framework_version is not specified, defaulting to version 1.13.\n"
     ]
    }
   ],
   "source": [
    "script_arguments = {\n",
    "    \"--data-dir\": food_data.as_mount(),\n",
    "    \"--epochs\": 50,\n",
    "    \"--learning-rate\": 1e-4,\n",
    "    \"--minibatch-size\": 64,\n",
    "    \"--optimizer\": 'adadelta'\n",
    "}\n",
    "\n",
    "tf_config = TensorFlow(source_directory=\"..\",\n",
    "                       entry_script='code/train/train.py',\n",
    "                       script_params=script_arguments,\n",
    "                       compute_target=gpu_cluster,\n",
    "                       conda_packages=['pillow', 'pandas'],\n",
    "                       pip_packages=['click', 'seaborn'],\n",
    "                       use_docker=True,\n",
    "                       use_gpu=True\n",
    "                      )\n",
    "\n",
    "# Run on subset of food categories\n",
    "tf_config.run_config.arguments.extend(['apple_pie', \n",
    "                                       'baby_back_ribs', \n",
    "                                       'baklava', \n",
    "                                       'beef_carpaccio'])"
   ]
  },
  {
   "cell_type": "code",
   "execution_count": 85,
   "metadata": {},
   "outputs": [],
   "source": [
    "single_exp = Experiment(ws, \"single_run\")\n",
    "tf_single_run = single_exp.submit(tf_config)"
   ]
  },
  {
   "cell_type": "code",
   "execution_count": 86,
   "metadata": {},
   "outputs": [
    {
     "data": {
      "application/vnd.jupyter.widget-view+json": {
       "model_id": "26349c733b774184a0ae78776ea53d17",
       "version_major": 2,
       "version_minor": 0
      },
      "text/plain": [
       "A Jupyter Widget"
      ]
     },
     "metadata": {},
     "output_type": "display_data"
    }
   ],
   "source": [
    "RunDetails(tf_single_run).show()"
   ]
  },
  {
   "cell_type": "code",
   "execution_count": null,
   "metadata": {},
   "outputs": [],
   "source": []
  }
 ],
 "metadata": {
  "kernelspec": {
   "display_name": "Python 3.6 - AzureML",
   "language": "python",
   "name": "python3-azureml"
  },
  "language_info": {
   "codemirror_mode": {
    "name": "ipython",
    "version": 3
   },
   "file_extension": ".py",
   "mimetype": "text/x-python",
   "name": "python",
   "nbconvert_exporter": "python",
   "pygments_lexer": "ipython3",
   "version": "3.6.2"
  }
 },
 "nbformat": 4,
 "nbformat_minor": 2
}
